{
 "cells": [
  {
   "cell_type": "code",
   "execution_count": 6,
   "metadata": {},
   "outputs": [],
   "source": [
    "import numpy as np\n",
    "import matplotlib.pyplot as plt\n",
    "import warnings\n",
    "warnings.filterwarnings(\"ignore\") "
   ]
  },
  {
   "cell_type": "markdown",
   "metadata": {},
   "source": [
    "##### 1. Задание (на листочке)\n",
    "Решите уравнение  \n",
    "sin(x)/x=0."
   ]
  },
  {
   "cell_type": "code",
   "execution_count": 7,
   "metadata": {},
   "outputs": [
    {
     "data": {
      "image/png": "[encoded data removed]",
      "text/plain": [
       "<Figure size 432x288 with 1 Axes>"
      ]
     },
     "metadata": {
      "needs_background": "light"
     },
     "output_type": "display_data"
    }
   ],
   "source": [
    "x = np.linspace(-10, 10, 101)\n",
    "plt.plot(x, np.sin(x)/x)\n",
    "plt.show()"
   ]
  },
  {
   "cell_type": "markdown",
   "metadata": {},
   "source": [
    "Ответ: $x=+-2*pi*k$, при $k!=0$"
   ]
  },
  {
   "cell_type": "markdown",
   "metadata": {},
   "source": [
    "##### 2. Задание (на листочке)\n",
    "Даны три прямые y=k1*x+b1, y=k2*x+b2, y=k3*x+b3. Как узнать, пересекаются они в одной точке или нет?"
   ]
  },
  {
   "cell_type": "markdown",
   "metadata": {},
   "source": [
    "Путь общая точка имеет координаты (x0, y0), тогда все прямые должны удовлетворять:  \n",
    "y0=k1x0+b1  \n",
    "y0=k2x0+b2  \n",
    "y0=k2x0+b3  \n",
    "\n",
    "Либо, можно решить задачу через матрицу коэффициентов **d**:  \n",
    "k1x0-y0+b1=0  \n",
    "k2x0-y0+b2=0  \n",
    "k2x0-y0+b3=0  \n",
    "\n",
    "|k1 -1 b1|  \n",
    "|k2 -1 b2| = d  \n",
    "|k3 -1 b3|  \n",
    "\n",
    "Обозначим также миноры матрицы **d** как:  \n",
    "|k1 -1|  \n",
    "|k2 -1| = d1\n",
    "\n",
    "|k2 -1|  \n",
    "|k3 -1| = d2\n",
    "\n",
    "|k3 -1|  \n",
    "|k1 -1| = d3\n",
    "\n",
    "Прямые пересекаются в одной точке, когда определитель |d| = 0, при этом миноры |d1|, |d2|, |d3| <> 0 (условие линейной не зависимости, т.е. не параллельности)"
   ]
  },
  {
   "cell_type": "markdown",
   "metadata": {},
   "source": [
    "##### 3. Задание (в программе или на листочке)\n",
    "На листе тетради «в линейку» (расстояние между линиями равно а) лежит игла (длиной b). Координаты нижней точки иглы (х,у), игла лежит под углом alfa. Пересекает ли игла линию или нет?"
   ]
  },
  {
   "cell_type": "markdown",
   "metadata": {},
   "source": [
    "Уравнения прямых в тетради: Y = N*a, где N  [0; +inf]  \n",
    "Тогда система должна выглядеть следующим образом:  \n",
    "Y = N*a  \n",
    "b^2 <= (X-x)^2 + (Y-y)^2  \n",
    "(Y-y) = alfa(X-x)  "
   ]
  },
  {
   "cell_type": "markdown",
   "metadata": {},
   "source": [
    "##### 4. Задание** (задание делать по желанию)\n",
    "Решите аналитически и потом численно (в программе) уравнение, зависящее от параметра а:  \n",
    "sin(а*x)=0  \n",
    "при условии: 0.01<a<0.02, 100<х<500.  \n",
    "Т.е. надо найти решение х как функцию параметра а - построить график x=x(а).  \n",
    "Если численным методом не получается найти все ветви решения x(а), то отыщите хотя бы одну."
   ]
  },
  {
   "cell_type": "markdown",
   "metadata": {},
   "source": [
    "$a*x = 2*pi*k, k E Z$  (символа принадлежности в ноутбуке не нашел, поэтому поставил E)\n",
    "\n",
    "$x = 2*pi*k/a$  \n",
    "$100<x<500$  \n",
    "$0.01<a<0.02$  \n",
    "\n",
    "В предельных **a** значение **x** примерно равно:  \n",
    "$2*pi*k/a$ ~= (628; 314), соответственно для сохранения условия 100<x<500, значение **k**=1, а значение **a** должно быть в диапазоне (2*pi/500; 0.02)  \n",
    "Таким образом:  \n",
    "$x = 2*pi/a$, при **a** (2*pi/500; 0.02)"
   ]
  },
  {
   "cell_type": "code",
   "execution_count": 43,
   "metadata": {},
   "outputs": [
    {
     "data": {
      "image/png": "[encoded data removed]",
      "text/plain": [
       "<Figure size 432x288 with 1 Axes>"
      ]
     },
     "metadata": {
      "needs_background": "light"
     },
     "output_type": "display_data"
    }
   ],
   "source": [
    "a = np.linspace(np.pi*2/500, 0.02, 101, endpoint=False)\n",
    "a = a[1:]  # убираем первую точку 2pi/500\n",
    "plt.plot(a, 2*np.pi/a)\n",
    "plt.xlabel('a')\n",
    "plt.ylabel('x')\n",
    "plt.axis([0.009, 0.021, 50, 550])\n",
    "plt.axhline(y=100, color='r', linestyle='--', linewidth=0.5)\n",
    "plt.axhline(y=500, color='r', linestyle='--', linewidth=0.5)\n",
    "plt.axvline(x=0.01, color='r', linestyle='--', linewidth=0.5)\n",
    "plt.axvline(x=0.02, color='r', linestyle='--', linewidth=0.5)\n",
    "plt.show()"
   ]
  },
  {
   "cell_type": "markdown",
   "metadata": {},
   "source": [
    "##### Задание 17.6.2\n",
    "Найти угол аlpha между прямыми:  \n",
    "$4y-3x+12=0$  \n",
    "$7y+x-14=0$"
   ]
  },
  {
   "cell_type": "markdown",
   "metadata": {},
   "source": [
    "Косинус угла между прямыми в пространстве определяется соотношением, состоящим из коэф. при x, y, z:  \n",
    "$cosa = (A1*A2 + B1*B2 + C1*C2) / ( sqrt(A1^2+B1^2+C1^2) * sqrt(A2^2+B2^2+C2^2) )$"
   ]
  },
  {
   "cell_type": "code",
   "execution_count": 56,
   "metadata": {},
   "outputs": [
    {
     "name": "stdout",
     "output_type": "stream",
     "text": [
      "Угол alpha = 0.785 (рад) или 45.0 (град)\n"
     ]
    }
   ],
   "source": [
    "cosa = (4*7 + (-3)*1) / (np.sqrt(4**2+(-3)**2) * np.sqrt(7**2 + 1**2))\n",
    "alpha = np.arccos(cosa)\n",
    "print(f'Угол alpha = {round(alpha, 3)} (рад) или {round(np.degrees(alpha), 1)} (град)')"
   ]
  },
  {
   "cell_type": "markdown",
   "metadata": {},
   "source": [
    "##### Задание 17.6.4\n",
    "Найти угол аlpha между прямыми:  \n",
    "$x = sqrt(2)$  \n",
    "$x = -sqrt(3)$"
   ]
  },
  {
   "cell_type": "code",
   "execution_count": 61,
   "metadata": {},
   "outputs": [
    {
     "name": "stdout",
     "output_type": "stream",
     "text": [
      "Прямые параллельны. Угол alpha = 0.0 (рад) или 0.0 (град)\n"
     ]
    }
   ],
   "source": [
    "cosa = 1\n",
    "alpha = np.arccos(cosa)\n",
    "print(f'Прямые параллельны. Угол alpha = {round(alpha, 3)} (рад) или {round(np.degrees(alpha), 1)} (град)')"
   ]
  },
  {
   "cell_type": "markdown",
   "metadata": {},
   "source": [
    "##### Задание 17.6.5\n",
    "Выяснить тип кривой второго порядка  \n",
    "$y^2-2x-2y-5=0$"
   ]
  },
  {
   "cell_type": "markdown",
   "metadata": {},
   "source": [
    "$y^2-2y+1-2x-6=0$  \n",
    "$(y-1)^2=2(x+3)$ - уравнение параболы с центром в т. (-3, 1)\n"
   ]
  },
  {
   "cell_type": "markdown",
   "metadata": {},
   "source": [
    "##### Задание 17.6.6\n",
    "Выяснить тип кривой второго порядка  \n",
    "$3x^2+5y^2+12x-30y+42=0$"
   ]
  },
  {
   "cell_type": "markdown",
   "metadata": {},
   "source": [
    "$3(x^2+4x+2)+5(y^2-6y+3)+21=0$  \n",
    "$3(x+2)^2+5(y-3)^2+21=0$  \n",
    "$(x+2)^2/7+(y-3)^2/(21/5)=-1$ - уравнение мнимого эллипса с центром в т. (-2, 3)"
   ]
  },
  {
   "cell_type": "markdown",
   "metadata": {},
   "source": [
    "##### Задание 17.6.7\n",
    "Выяснить тип кривой второго порядка  \n",
    "$2x^2-y^2+6y-7=0$"
   ]
  },
  {
   "cell_type": "markdown",
   "metadata": {},
   "source": [
    "$2x^2-(y^2-6y+3)-4=0$  \n",
    "$x^2/2-(y-3)^2/4=1$ - уравнение гиперболы с центром в т. (0, 3)"
   ]
  },
  {
   "cell_type": "markdown",
   "metadata": {},
   "source": [
    "##### Задание 17.6.8\n",
    "Выяснить тип кривой второго порядка  \n",
    "$2x^2-3y^2-28x-42y-55=0$"
   ]
  },
  {
   "cell_type": "markdown",
   "metadata": {},
   "source": [
    "$2(x^2-14x+7)-3(y^2+14y+7)-48=0$  \n",
    "$2(x-7)^2-3(y+7)^2=48$  \n",
    "$(x-7)^2/24-(y+7)^2/16=1$ - уравнение гиперболы с центром в т. (7, -7)"
   ]
  }
 ],
 "metadata": {
  "kernelspec": {
   "display_name": "Python 3",
   "language": "python",
   "name": "python3"
  },
  "language_info": {
   "codemirror_mode": {
    "name": "ipython",
    "version": 3
   },
   "file_extension": ".py",
   "mimetype": "text/x-python",
   "name": "python",
   "nbconvert_exporter": "python",
   "pygments_lexer": "ipython3",
   "version": "3.8.3"
  }
 },
 "nbformat": 4,
 "nbformat_minor": 4
}
